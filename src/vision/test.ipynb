{
 "cells": [
  {
   "cell_type": "code",
   "execution_count": 6,
   "metadata": {},
   "outputs": [],
   "source": [
    "import time\n",
    "import tensorflow as tf\n",
    "from object_detection.utils import label_map_util\n",
    "from object_detection.utils import visualization_utils as viz_utibls\n",
    "import os \n"
   ]
  },
  {
   "cell_type": "code",
   "execution_count": 7,
   "metadata": {},
   "outputs": [
    {
     "data": {
      "text/plain": [
       "'d:\\\\Development\\\\Robotics\\\\vision\\\\vrx_ws\\\\src\\\\Vision'"
      ]
     },
     "execution_count": 7,
     "metadata": {},
     "output_type": "execute_result"
    }
   ],
   "source": [
    "os.getcwd()"
   ]
  },
  {
   "cell_type": "code",
   "execution_count": 12,
   "metadata": {},
   "outputs": [
    {
     "name": "stdout",
     "output_type": "stream",
     "text": [
      "Loading model..."
     ]
    },
    {
     "ename": "KeyboardInterrupt",
     "evalue": "",
     "output_type": "error",
     "traceback": [
      "\u001b[1;31m---------------------------------------------------------------------------\u001b[0m",
      "\u001b[1;31mKeyboardInterrupt\u001b[0m                         Traceback (most recent call last)",
      "\u001b[1;32md:\\Development\\Robotics\\vision\\vrx_ws\\src\\Vision\\test.ipynb Cell 3'\u001b[0m in \u001b[0;36m<module>\u001b[1;34m\u001b[0m\n\u001b[0;32m      <a href='vscode-notebook-cell:/d%3A/Development/Robotics/vision/vrx_ws/src/Vision/test.ipynb#ch0000002?line=4'>5</a>\u001b[0m start_time \u001b[39m=\u001b[39m time\u001b[39m.\u001b[39mtime()\n\u001b[0;32m      <a href='vscode-notebook-cell:/d%3A/Development/Robotics/vision/vrx_ws/src/Vision/test.ipynb#ch0000002?line=6'>7</a>\u001b[0m \u001b[39m# Load saved model and build the detection function\u001b[39;00m\n\u001b[1;32m----> <a href='vscode-notebook-cell:/d%3A/Development/Robotics/vision/vrx_ws/src/Vision/test.ipynb#ch0000002?line=7'>8</a>\u001b[0m detect_fn \u001b[39m=\u001b[39m tf\u001b[39m.\u001b[39;49msaved_model\u001b[39m.\u001b[39;49mload(PATH_TO_SAVED_MODEL)\n\u001b[0;32m     <a href='vscode-notebook-cell:/d%3A/Development/Robotics/vision/vrx_ws/src/Vision/test.ipynb#ch0000002?line=9'>10</a>\u001b[0m end_time \u001b[39m=\u001b[39m time\u001b[39m.\u001b[39mtime()\n\u001b[0;32m     <a href='vscode-notebook-cell:/d%3A/Development/Robotics/vision/vrx_ws/src/Vision/test.ipynb#ch0000002?line=10'>11</a>\u001b[0m elapsed_time \u001b[39m=\u001b[39m end_time \u001b[39m-\u001b[39m start_time\n",
      "File \u001b[1;32md:\\Environments\\TF_OBJD_API2\\lib\\site-packages\\tensorflow\\python\\saved_model\\load.py:936\u001b[0m, in \u001b[0;36mload\u001b[1;34m(export_dir, tags, options)\u001b[0m\n\u001b[0;32m    <a href='file:///d%3A/Environments/TF_OBJD_API2/lib/site-packages/tensorflow/python/saved_model/load.py?line=844'>845</a>\u001b[0m \u001b[39m@tf_export\u001b[39m(\u001b[39m\"\u001b[39m\u001b[39msaved_model.load\u001b[39m\u001b[39m\"\u001b[39m, v1\u001b[39m=\u001b[39m[\u001b[39m\"\u001b[39m\u001b[39msaved_model.load_v2\u001b[39m\u001b[39m\"\u001b[39m])\n\u001b[0;32m    <a href='file:///d%3A/Environments/TF_OBJD_API2/lib/site-packages/tensorflow/python/saved_model/load.py?line=845'>846</a>\u001b[0m \u001b[39mdef\u001b[39;00m \u001b[39mload\u001b[39m(export_dir, tags\u001b[39m=\u001b[39m\u001b[39mNone\u001b[39;00m, options\u001b[39m=\u001b[39m\u001b[39mNone\u001b[39;00m):\n\u001b[0;32m    <a href='file:///d%3A/Environments/TF_OBJD_API2/lib/site-packages/tensorflow/python/saved_model/load.py?line=846'>847</a>\u001b[0m   \u001b[39m\"\"\"Load a SavedModel from `export_dir`.\u001b[39;00m\n\u001b[0;32m    <a href='file:///d%3A/Environments/TF_OBJD_API2/lib/site-packages/tensorflow/python/saved_model/load.py?line=847'>848</a>\u001b[0m \n\u001b[0;32m    <a href='file:///d%3A/Environments/TF_OBJD_API2/lib/site-packages/tensorflow/python/saved_model/load.py?line=848'>849</a>\u001b[0m \u001b[39m  Signatures associated with the SavedModel are available as functions:\u001b[39;00m\n\u001b[1;32m   (...)\u001b[0m\n\u001b[0;32m    <a href='file:///d%3A/Environments/TF_OBJD_API2/lib/site-packages/tensorflow/python/saved_model/load.py?line=933'>934</a>\u001b[0m \u001b[39m    ValueError: If `tags` don't match a MetaGraph in the SavedModel.\u001b[39;00m\n\u001b[0;32m    <a href='file:///d%3A/Environments/TF_OBJD_API2/lib/site-packages/tensorflow/python/saved_model/load.py?line=934'>935</a>\u001b[0m \u001b[39m  \"\"\"\u001b[39;00m\n\u001b[1;32m--> <a href='file:///d%3A/Environments/TF_OBJD_API2/lib/site-packages/tensorflow/python/saved_model/load.py?line=935'>936</a>\u001b[0m   result \u001b[39m=\u001b[39m load_internal(export_dir, tags, options)[\u001b[39m\"\u001b[39m\u001b[39mroot\u001b[39m\u001b[39m\"\u001b[39m]\n\u001b[0;32m    <a href='file:///d%3A/Environments/TF_OBJD_API2/lib/site-packages/tensorflow/python/saved_model/load.py?line=936'>937</a>\u001b[0m   \u001b[39mreturn\u001b[39;00m result\n",
      "File \u001b[1;32md:\\Environments\\TF_OBJD_API2\\lib\\site-packages\\tensorflow\\python\\saved_model\\load.py:974\u001b[0m, in \u001b[0;36mload_internal\u001b[1;34m(export_dir, tags, options, loader_cls, filters)\u001b[0m\n\u001b[0;32m    <a href='file:///d%3A/Environments/TF_OBJD_API2/lib/site-packages/tensorflow/python/saved_model/load.py?line=971'>972</a>\u001b[0m \u001b[39mwith\u001b[39;00m ops\u001b[39m.\u001b[39minit_scope():\n\u001b[0;32m    <a href='file:///d%3A/Environments/TF_OBJD_API2/lib/site-packages/tensorflow/python/saved_model/load.py?line=972'>973</a>\u001b[0m   \u001b[39mtry\u001b[39;00m:\n\u001b[1;32m--> <a href='file:///d%3A/Environments/TF_OBJD_API2/lib/site-packages/tensorflow/python/saved_model/load.py?line=973'>974</a>\u001b[0m     loader \u001b[39m=\u001b[39m loader_cls(object_graph_proto, saved_model_proto, export_dir,\n\u001b[0;32m    <a href='file:///d%3A/Environments/TF_OBJD_API2/lib/site-packages/tensorflow/python/saved_model/load.py?line=974'>975</a>\u001b[0m                         ckpt_options, options, filters)\n\u001b[0;32m    <a href='file:///d%3A/Environments/TF_OBJD_API2/lib/site-packages/tensorflow/python/saved_model/load.py?line=975'>976</a>\u001b[0m   \u001b[39mexcept\u001b[39;00m errors\u001b[39m.\u001b[39mNotFoundError \u001b[39mas\u001b[39;00m err:\n\u001b[0;32m    <a href='file:///d%3A/Environments/TF_OBJD_API2/lib/site-packages/tensorflow/python/saved_model/load.py?line=976'>977</a>\u001b[0m     \u001b[39mraise\u001b[39;00m \u001b[39mFileNotFoundError\u001b[39;00m(\n\u001b[0;32m    <a href='file:///d%3A/Environments/TF_OBJD_API2/lib/site-packages/tensorflow/python/saved_model/load.py?line=977'>978</a>\u001b[0m         \u001b[39mstr\u001b[39m(err) \u001b[39m+\u001b[39m \u001b[39m\"\u001b[39m\u001b[39m\\n\u001b[39;00m\u001b[39m You may be trying to load on a different device \u001b[39m\u001b[39m\"\u001b[39m\n\u001b[0;32m    <a href='file:///d%3A/Environments/TF_OBJD_API2/lib/site-packages/tensorflow/python/saved_model/load.py?line=978'>979</a>\u001b[0m         \u001b[39m\"\u001b[39m\u001b[39mfrom the computational device. Consider setting the \u001b[39m\u001b[39m\"\u001b[39m\n\u001b[0;32m    <a href='file:///d%3A/Environments/TF_OBJD_API2/lib/site-packages/tensorflow/python/saved_model/load.py?line=979'>980</a>\u001b[0m         \u001b[39m\"\u001b[39m\u001b[39m`experimental_io_device` option in `tf.saved_model.LoadOptions` \u001b[39m\u001b[39m\"\u001b[39m\n\u001b[0;32m    <a href='file:///d%3A/Environments/TF_OBJD_API2/lib/site-packages/tensorflow/python/saved_model/load.py?line=980'>981</a>\u001b[0m         \u001b[39m\"\u001b[39m\u001b[39mto the io_device such as \u001b[39m\u001b[39m'\u001b[39m\u001b[39m/job:localhost\u001b[39m\u001b[39m'\u001b[39m\u001b[39m.\u001b[39m\u001b[39m\"\u001b[39m)\n",
      "File \u001b[1;32md:\\Environments\\TF_OBJD_API2\\lib\\site-packages\\tensorflow\\python\\saved_model\\load.py:149\u001b[0m, in \u001b[0;36mLoader.__init__\u001b[1;34m(self, object_graph_proto, saved_model_proto, export_dir, ckpt_options, save_options, filters)\u001b[0m\n\u001b[0;32m    <a href='file:///d%3A/Environments/TF_OBJD_API2/lib/site-packages/tensorflow/python/saved_model/load.py?line=145'>146</a>\u001b[0m \u001b[39mself\u001b[39m\u001b[39m.\u001b[39m_proto \u001b[39m=\u001b[39m object_graph_proto\n\u001b[0;32m    <a href='file:///d%3A/Environments/TF_OBJD_API2/lib/site-packages/tensorflow/python/saved_model/load.py?line=146'>147</a>\u001b[0m \u001b[39mself\u001b[39m\u001b[39m.\u001b[39m_export_dir \u001b[39m=\u001b[39m export_dir\n\u001b[0;32m    <a href='file:///d%3A/Environments/TF_OBJD_API2/lib/site-packages/tensorflow/python/saved_model/load.py?line=147'>148</a>\u001b[0m \u001b[39mself\u001b[39m\u001b[39m.\u001b[39m_concrete_functions \u001b[39m=\u001b[39m (\n\u001b[1;32m--> <a href='file:///d%3A/Environments/TF_OBJD_API2/lib/site-packages/tensorflow/python/saved_model/load.py?line=148'>149</a>\u001b[0m     function_deserialization\u001b[39m.\u001b[39;49mload_function_def_library(\n\u001b[0;32m    <a href='file:///d%3A/Environments/TF_OBJD_API2/lib/site-packages/tensorflow/python/saved_model/load.py?line=149'>150</a>\u001b[0m         library\u001b[39m=\u001b[39;49mmeta_graph\u001b[39m.\u001b[39;49mgraph_def\u001b[39m.\u001b[39;49mlibrary,\n\u001b[0;32m    <a href='file:///d%3A/Environments/TF_OBJD_API2/lib/site-packages/tensorflow/python/saved_model/load.py?line=150'>151</a>\u001b[0m         saved_object_graph\u001b[39m=\u001b[39;49m\u001b[39mself\u001b[39;49m\u001b[39m.\u001b[39;49m_proto,\n\u001b[0;32m    <a href='file:///d%3A/Environments/TF_OBJD_API2/lib/site-packages/tensorflow/python/saved_model/load.py?line=151'>152</a>\u001b[0m         wrapper_function\u001b[39m=\u001b[39;49m_WrapperFunction))\n\u001b[0;32m    <a href='file:///d%3A/Environments/TF_OBJD_API2/lib/site-packages/tensorflow/python/saved_model/load.py?line=152'>153</a>\u001b[0m \u001b[39m# Store a set of all concrete functions that have been set up with\u001b[39;00m\n\u001b[0;32m    <a href='file:///d%3A/Environments/TF_OBJD_API2/lib/site-packages/tensorflow/python/saved_model/load.py?line=153'>154</a>\u001b[0m \u001b[39m# captures.\u001b[39;00m\n\u001b[0;32m    <a href='file:///d%3A/Environments/TF_OBJD_API2/lib/site-packages/tensorflow/python/saved_model/load.py?line=154'>155</a>\u001b[0m \u001b[39mself\u001b[39m\u001b[39m.\u001b[39m_restored_concrete_functions \u001b[39m=\u001b[39m \u001b[39mset\u001b[39m()\n",
      "File \u001b[1;32md:\\Environments\\TF_OBJD_API2\\lib\\site-packages\\tensorflow\\python\\saved_model\\function_deserialization.py:427\u001b[0m, in \u001b[0;36mload_function_def_library\u001b[1;34m(library, saved_object_graph, load_shared_name_suffix, wrapper_function)\u001b[0m\n\u001b[0;32m    <a href='file:///d%3A/Environments/TF_OBJD_API2/lib/site-packages/tensorflow/python/saved_model/function_deserialization.py?line=424'>425</a>\u001b[0m \u001b[39mif\u001b[39;00m \u001b[39m\"\u001b[39m\u001b[39m_input_shapes\u001b[39m\u001b[39m\"\u001b[39m \u001b[39min\u001b[39;00m copy\u001b[39m.\u001b[39mattr:\n\u001b[0;32m    <a href='file:///d%3A/Environments/TF_OBJD_API2/lib/site-packages/tensorflow/python/saved_model/function_deserialization.py?line=425'>426</a>\u001b[0m   \u001b[39mdel\u001b[39;00m copy\u001b[39m.\u001b[39mattr[\u001b[39m\"\u001b[39m\u001b[39m_input_shapes\u001b[39m\u001b[39m\"\u001b[39m]\n\u001b[1;32m--> <a href='file:///d%3A/Environments/TF_OBJD_API2/lib/site-packages/tensorflow/python/saved_model/function_deserialization.py?line=426'>427</a>\u001b[0m func \u001b[39m=\u001b[39m function_lib\u001b[39m.\u001b[39;49mConcreteFunction(func_graph, attrs\u001b[39m=\u001b[39;49mcopy\u001b[39m.\u001b[39;49mattr)\n\u001b[0;32m    <a href='file:///d%3A/Environments/TF_OBJD_API2/lib/site-packages/tensorflow/python/saved_model/function_deserialization.py?line=427'>428</a>\u001b[0m \u001b[39mif\u001b[39;00m wrapper_function:\n\u001b[0;32m    <a href='file:///d%3A/Environments/TF_OBJD_API2/lib/site-packages/tensorflow/python/saved_model/function_deserialization.py?line=428'>429</a>\u001b[0m   func \u001b[39m=\u001b[39m wrapper_function(func)\n",
      "File \u001b[1;32md:\\Environments\\TF_OBJD_API2\\lib\\site-packages\\tensorflow\\python\\eager\\function.py:1494\u001b[0m, in \u001b[0;36mConcreteFunction.__init__\u001b[1;34m(self, func_graph, attrs, shared_func_graph, function_spec)\u001b[0m\n\u001b[0;32m   <a href='file:///d%3A/Environments/TF_OBJD_API2/lib/site-packages/tensorflow/python/eager/function.py?line=1487'>1488</a>\u001b[0m   \u001b[39mself\u001b[39m\u001b[39m.\u001b[39m_garbage_collector \u001b[39m=\u001b[39m ConcreteFunctionGarbageCollector(func_graph)\n\u001b[0;32m   <a href='file:///d%3A/Environments/TF_OBJD_API2/lib/site-packages/tensorflow/python/eager/function.py?line=1489'>1490</a>\u001b[0m \u001b[39m# Pairs of forward and backward functions used for computing gradients.\u001b[39;00m\n\u001b[0;32m   <a href='file:///d%3A/Environments/TF_OBJD_API2/lib/site-packages/tensorflow/python/eager/function.py?line=1490'>1491</a>\u001b[0m \u001b[39m#\u001b[39;00m\n\u001b[0;32m   <a href='file:///d%3A/Environments/TF_OBJD_API2/lib/site-packages/tensorflow/python/eager/function.py?line=1491'>1492</a>\u001b[0m \u001b[39m# These each get a reference to the FuncGraph deleter since they use the\u001b[39;00m\n\u001b[0;32m   <a href='file:///d%3A/Environments/TF_OBJD_API2/lib/site-packages/tensorflow/python/eager/function.py?line=1492'>1493</a>\u001b[0m \u001b[39m# FuncGraph directly.\u001b[39;00m\n\u001b[1;32m-> <a href='file:///d%3A/Environments/TF_OBJD_API2/lib/site-packages/tensorflow/python/eager/function.py?line=1493'>1494</a>\u001b[0m \u001b[39mself\u001b[39m\u001b[39m.\u001b[39m_delayed_rewrite_functions \u001b[39m=\u001b[39m _DelayedRewriteGradientFunctions(\n\u001b[0;32m   <a href='file:///d%3A/Environments/TF_OBJD_API2/lib/site-packages/tensorflow/python/eager/function.py?line=1494'>1495</a>\u001b[0m     func_graph, \u001b[39mself\u001b[39;49m\u001b[39m.\u001b[39;49m_attrs, \u001b[39mself\u001b[39;49m\u001b[39m.\u001b[39;49m_garbage_collector)\n\u001b[0;32m   <a href='file:///d%3A/Environments/TF_OBJD_API2/lib/site-packages/tensorflow/python/eager/function.py?line=1495'>1496</a>\u001b[0m \u001b[39mself\u001b[39m\u001b[39m.\u001b[39m_first_order_tape_functions \u001b[39m=\u001b[39m {}\n\u001b[0;32m   <a href='file:///d%3A/Environments/TF_OBJD_API2/lib/site-packages/tensorflow/python/eager/function.py?line=1496'>1497</a>\u001b[0m \u001b[39mself\u001b[39m\u001b[39m.\u001b[39m_higher_order_tape_functions \u001b[39m=\u001b[39m {}\n",
      "File \u001b[1;32md:\\Environments\\TF_OBJD_API2\\lib\\site-packages\\tensorflow\\python\\eager\\function.py:584\u001b[0m, in \u001b[0;36m_DelayedRewriteGradientFunctions.__init__\u001b[1;34m(self, func_graph, attrs, func_graph_deleter)\u001b[0m\n\u001b[0;32m    <a href='file:///d%3A/Environments/TF_OBJD_API2/lib/site-packages/tensorflow/python/eager/function.py?line=581'>582</a>\u001b[0m \u001b[39mself\u001b[39m\u001b[39m.\u001b[39m_cached_function_pairs \u001b[39m=\u001b[39m {}\n\u001b[0;32m    <a href='file:///d%3A/Environments/TF_OBJD_API2/lib/site-packages/tensorflow/python/eager/function.py?line=582'>583</a>\u001b[0m \u001b[39mself\u001b[39m\u001b[39m.\u001b[39m_func_graph \u001b[39m=\u001b[39m func_graph\n\u001b[1;32m--> <a href='file:///d%3A/Environments/TF_OBJD_API2/lib/site-packages/tensorflow/python/eager/function.py?line=583'>584</a>\u001b[0m \u001b[39mself\u001b[39m\u001b[39m.\u001b[39m_inference_function \u001b[39m=\u001b[39m _EagerDefinedFunction(\n\u001b[0;32m    <a href='file:///d%3A/Environments/TF_OBJD_API2/lib/site-packages/tensorflow/python/eager/function.py?line=584'>585</a>\u001b[0m     _inference_name(\u001b[39mself\u001b[39;49m\u001b[39m.\u001b[39;49m_func_graph\u001b[39m.\u001b[39;49mname), \u001b[39mself\u001b[39;49m\u001b[39m.\u001b[39;49m_func_graph,\n\u001b[0;32m    <a href='file:///d%3A/Environments/TF_OBJD_API2/lib/site-packages/tensorflow/python/eager/function.py?line=585'>586</a>\u001b[0m     \u001b[39mself\u001b[39;49m\u001b[39m.\u001b[39;49m_func_graph\u001b[39m.\u001b[39;49minputs, \u001b[39mself\u001b[39;49m\u001b[39m.\u001b[39;49m_func_graph\u001b[39m.\u001b[39;49moutputs, attrs)\n\u001b[0;32m    <a href='file:///d%3A/Environments/TF_OBJD_API2/lib/site-packages/tensorflow/python/eager/function.py?line=586'>587</a>\u001b[0m \u001b[39mself\u001b[39m\u001b[39m.\u001b[39m_attrs \u001b[39m=\u001b[39m attrs\n\u001b[0;32m    <a href='file:///d%3A/Environments/TF_OBJD_API2/lib/site-packages/tensorflow/python/eager/function.py?line=587'>588</a>\u001b[0m \u001b[39mself\u001b[39m\u001b[39m.\u001b[39m_gradient_name \u001b[39m=\u001b[39m \u001b[39mNone\u001b[39;00m\n",
      "File \u001b[1;32md:\\Environments\\TF_OBJD_API2\\lib\\site-packages\\tensorflow\\python\\eager\\function.py:394\u001b[0m, in \u001b[0;36m_EagerDefinedFunction.__init__\u001b[1;34m(self, name, graph, inputs, outputs, attrs)\u001b[0m\n\u001b[0;32m    <a href='file:///d%3A/Environments/TF_OBJD_API2/lib/site-packages/tensorflow/python/eager/function.py?line=390'>391</a>\u001b[0m   serialized \u001b[39m=\u001b[39m attr_value\u001b[39m.\u001b[39mSerializeToString()\n\u001b[0;32m    <a href='file:///d%3A/Environments/TF_OBJD_API2/lib/site-packages/tensorflow/python/eager/function.py?line=391'>392</a>\u001b[0m   \u001b[39m# TODO(iga): this creates and deletes a new TF_Status for every attr.\u001b[39;00m\n\u001b[0;32m    <a href='file:///d%3A/Environments/TF_OBJD_API2/lib/site-packages/tensorflow/python/eager/function.py?line=392'>393</a>\u001b[0m   \u001b[39m# It might be worth creating a convenient way to re-use status.\u001b[39;00m\n\u001b[1;32m--> <a href='file:///d%3A/Environments/TF_OBJD_API2/lib/site-packages/tensorflow/python/eager/function.py?line=393'>394</a>\u001b[0m   pywrap_tf_session\u001b[39m.\u001b[39;49mTF_FunctionSetAttrValueProto(fn, compat\u001b[39m.\u001b[39;49mas_str(name),\n\u001b[0;32m    <a href='file:///d%3A/Environments/TF_OBJD_API2/lib/site-packages/tensorflow/python/eager/function.py?line=394'>395</a>\u001b[0m                                                  serialized)\n\u001b[0;32m    <a href='file:///d%3A/Environments/TF_OBJD_API2/lib/site-packages/tensorflow/python/eager/function.py?line=396'>397</a>\u001b[0m \u001b[39m# TODO(apassos) avoid creating a FunctionDef (specially to grab the\u001b[39;00m\n\u001b[0;32m    <a href='file:///d%3A/Environments/TF_OBJD_API2/lib/site-packages/tensorflow/python/eager/function.py?line=397'>398</a>\u001b[0m \u001b[39m# signature, but also in general it's nice not to depend on it.\u001b[39;00m\n\u001b[0;32m    <a href='file:///d%3A/Environments/TF_OBJD_API2/lib/site-packages/tensorflow/python/eager/function.py?line=398'>399</a>\u001b[0m \u001b[39mwith\u001b[39;00m c_api_util\u001b[39m.\u001b[39mtf_buffer() \u001b[39mas\u001b[39;00m buffer_:\n",
      "\u001b[1;31mKeyboardInterrupt\u001b[0m: "
     ]
    }
   ],
   "source": [
    "MODEL_PATH = \"models\\\\ssd_mobilenet_14_03_22\\\\saved_model\"\n",
    "PATH_TO_SAVED_MODEL = os.path.join(os.getcwd(), MODEL_PATH)\n",
    "\n",
    "print('Loading model...', end='')\n",
    "start_time = time.time()\n",
    "\n",
    "# Load saved model and build the detection function\n",
    "detect_fn = tf.saved_model.load(PATH_TO_SAVED_MODEL)\n",
    "\n",
    "end_time = time.time()\n",
    "elapsed_time = end_time - start_time\n",
    "# replace with roslog \n",
    "print('Done! Took {} seconds'.format(elapsed_time))"
   ]
  },
  {
   "cell_type": "code",
   "execution_count": null,
   "metadata": {},
   "outputs": [
    {
     "data": {
      "text/plain": [
       "'d:\\\\Development\\\\Robotics\\\\vision\\\\vrx_ws\\\\src\\\\Vision\\\\src\\\\Vision\\\\models\\\\ssd_mobilenet_14_03_22'"
      ]
     },
     "execution_count": 4,
     "metadata": {},
     "output_type": "execute_result"
    }
   ],
   "source": [
    "print('Running inference for {}... '.format(image_path), end='')\n",
    "\n",
    "image_np = load_image_into_numpy_array(image_path)\n",
    "\n",
    "\n",
    "# The input needs to be a tensor, convert it using `tf.convert_to_tensor`.\n",
    "input_tensor = tf.convert_to_tensor(image_np)\n",
    "# The model expects a batch of images, so add an axis with `tf.newaxis`.\n",
    "input_tensor = input_tensor[tf.newaxis, ...]\n",
    "\n",
    "# input_tensor = np.expand_dims(image_np, 0)\n",
    "detections = detect_fn(input_tensor)\n",
    "\n",
    "# All outputs are batches tensors.\n",
    "# Convert to numpy arrays, and take index [0] to remove the batch dimension.\n",
    "# We're only interested in the first num_detections.\n",
    "num_detections = int(detections.pop('num_detections'))\n",
    "detections = {key: value[0, :num_detections].numpy()\n",
    "                for key, value in detections.items()}\n",
    "detections['num_detections'] = num_detections\n",
    "\n",
    "# detection_classes should be ints.\n",
    "detections['detection_classes'] = detections['detection_classes'].astype(np.int64)\n",
    "\n",
    "image_np_with_detections = image_np.copy()\n",
    "\n",
    "viz_utils.visualize_boxes_and_labels_on_image_array(\n",
    "        image_np_with_detections,\n",
    "        detections['detection_boxes'],\n",
    "        detections['detection_classes'],\n",
    "        detections['detection_scores'],\n",
    "        category_index,\n",
    "        use_normalized_coordinates=True,\n",
    "        max_boxes_to_draw=200,\n",
    "        min_score_thresh=.30,\n",
    "        agnostic_mode=False)\n",
    "\n",
    "# plt.figure()\n",
    "# plt.imshow(image_np_with_detections)\n",
    "# print('Done')\n",
    "# plt.show()"
   ]
  },
  {
   "cell_type": "code",
   "execution_count": null,
   "metadata": {},
   "outputs": [],
   "source": []
  }
 ],
 "metadata": {
  "interpreter": {
   "hash": "9cc2a0244d3e0904deda68339438e65ae5af110f1abc7fbe2a9672fb63e646f1"
  },
  "kernelspec": {
   "display_name": "Python 3.8.10 ('TF_OBJD_API2')",
   "language": "python",
   "name": "python3"
  },
  "language_info": {
   "codemirror_mode": {
    "name": "ipython",
    "version": 3
   },
   "file_extension": ".py",
   "mimetype": "text/x-python",
   "name": "python",
   "nbconvert_exporter": "python",
   "pygments_lexer": "ipython3",
   "version": "3.8.10"
  },
  "orig_nbformat": 4
 },
 "nbformat": 4,
 "nbformat_minor": 2
}
