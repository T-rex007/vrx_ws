{
 "cells": [
  {
   "cell_type": "code",
   "execution_count": 1,
   "metadata": {},
   "outputs": [
    {
     "ename": "ModuleNotFoundError",
     "evalue": "No module named 'pcl'",
     "output_type": "error",
     "traceback": [
      "\u001b[0;31m---------------------------------------------------------------------------\u001b[0m",
      "\u001b[0;31mModuleNotFoundError\u001b[0m                       Traceback (most recent call last)",
      "\u001b[0;32m/tmp/ipykernel_26084/126837113.py\u001b[0m in \u001b[0;36m<module>\u001b[0;34m\u001b[0m\n\u001b[1;32m      1\u001b[0m \u001b[0;32mimport\u001b[0m \u001b[0mrospy\u001b[0m\u001b[0;34m\u001b[0m\u001b[0;34m\u001b[0m\u001b[0m\n\u001b[0;32m----> 2\u001b[0;31m \u001b[0;32mimport\u001b[0m \u001b[0mpcl\u001b[0m\u001b[0;34m\u001b[0m\u001b[0;34m\u001b[0m\u001b[0m\n\u001b[0m\u001b[1;32m      3\u001b[0m \u001b[0;32mimport\u001b[0m \u001b[0mnumpy\u001b[0m \u001b[0;32mas\u001b[0m \u001b[0mnp\u001b[0m\u001b[0;34m\u001b[0m\u001b[0;34m\u001b[0m\u001b[0m\n\u001b[1;32m      4\u001b[0m \u001b[0;32mimport\u001b[0m \u001b[0mctypes\u001b[0m\u001b[0;34m\u001b[0m\u001b[0;34m\u001b[0m\u001b[0m\n\u001b[1;32m      5\u001b[0m \u001b[0;32mimport\u001b[0m \u001b[0mstruct\u001b[0m\u001b[0;34m\u001b[0m\u001b[0;34m\u001b[0m\u001b[0m\n",
      "\u001b[0;31mModuleNotFoundError\u001b[0m: No module named 'pcl'"
     ]
    }
   ],
   "source": [
    "import rospy\n",
    "import pcl\n",
    "import numpy as np\n",
    "import ctypes\n",
    "import struct\n",
    "import os \n",
    "import open3d as o3d\n",
    "from sklearn.neighbors import KDTree\n",
    "from sklearn.cluster import DBSCAN "
   ]
  },
  {
   "cell_type": "code",
   "execution_count": 9,
   "metadata": {},
   "outputs": [],
   "source": [
    "# from pyrosenv.sensor_msgs import point_cloud2"
   ]
  },
  {
   "cell_type": "code",
   "execution_count": 10,
   "metadata": {},
   "outputs": [],
   "source": [
    "PCD_PATH = \"pcd-20220211T040044Z-001/pcd\"\n",
    "\n",
    "pcd_file_names = os.listdir(PCD_PATH)\n"
   ]
  },
  {
   "cell_type": "code",
   "execution_count": 17,
   "metadata": {},
   "outputs": [
    {
     "data": {
      "text/plain": [
       "set"
      ]
     },
     "execution_count": 17,
     "metadata": {},
     "output_type": "execute_result"
    }
   ],
   "source": [
    "type({\"X\", \"L\"})"
   ]
  },
  {
   "cell_type": "code",
   "execution_count": 18,
   "metadata": {},
   "outputs": [
    {
     "ename": "NameError",
     "evalue": "name 'pd' is not defined",
     "output_type": "error",
     "traceback": [
      "\u001b[0;31m---------------------------------------------------------------------------\u001b[0m",
      "\u001b[0;31mNameError\u001b[0m                                 Traceback (most recent call last)",
      "\u001b[0;32m/tmp/ipykernel_20339/2518696820.py\u001b[0m in \u001b[0;36m<module>\u001b[0;34m\u001b[0m\n\u001b[1;32m      1\u001b[0m \u001b[0mi\u001b[0m \u001b[0;34m=\u001b[0m \u001b[0;36m5\u001b[0m\u001b[0;34m\u001b[0m\u001b[0;34m\u001b[0m\u001b[0m\n\u001b[1;32m      2\u001b[0m \u001b[0mpcd1\u001b[0m \u001b[0;34m=\u001b[0m \u001b[0mo3d\u001b[0m\u001b[0;34m.\u001b[0m\u001b[0mio\u001b[0m\u001b[0;34m.\u001b[0m\u001b[0mread_point_cloud\u001b[0m\u001b[0;34m(\u001b[0m\u001b[0mos\u001b[0m\u001b[0;34m.\u001b[0m\u001b[0mpath\u001b[0m\u001b[0;34m.\u001b[0m\u001b[0mjoin\u001b[0m\u001b[0;34m(\u001b[0m\u001b[0mPCD_PATH\u001b[0m\u001b[0;34m,\u001b[0m \u001b[0mpcd_file_names\u001b[0m\u001b[0;34m[\u001b[0m\u001b[0mi\u001b[0m\u001b[0;34m]\u001b[0m\u001b[0;34m)\u001b[0m\u001b[0;34m)\u001b[0m\u001b[0;34m\u001b[0m\u001b[0;34m\u001b[0m\u001b[0m\n\u001b[0;32m----> 3\u001b[0;31m \u001b[0mpcd_dataframe\u001b[0m \u001b[0;34m=\u001b[0m \u001b[0mpd\u001b[0m\u001b[0;34m.\u001b[0m\u001b[0mDataFrame\u001b[0m\u001b[0;34m(\u001b[0m\u001b[0mpcd1\u001b[0m\u001b[0;34m.\u001b[0m\u001b[0mpoints\u001b[0m\u001b[0;34m,\u001b[0m \u001b[0mcolumns\u001b[0m\u001b[0;34m=\u001b[0m\u001b[0;34m[\u001b[0m\u001b[0;34m\"X\"\u001b[0m\u001b[0;34m,\u001b[0m \u001b[0;34m\"Y\"\u001b[0m\u001b[0;34m,\u001b[0m \u001b[0;34m\"Z\"\u001b[0m\u001b[0;34m]\u001b[0m\u001b[0;34m)\u001b[0m\u001b[0;34m\u001b[0m\u001b[0;34m\u001b[0m\u001b[0m\n\u001b[0m",
      "\u001b[0;31mNameError\u001b[0m: name 'pd' is not defined"
     ]
    }
   ],
   "source": [
    "i = 5 \n",
    "pcd1 = o3d.io.read_point_cloud(os.path.join(PCD_PATH, pcd_file_names[i]))\n"
   ]
  },
  {
   "cell_type": "code",
   "execution_count": 12,
   "metadata": {},
   "outputs": [],
   "source": [
    "pts = np.asarray(pcd1.points)\n",
    "\n",
    "def get_current_global_pose():\n",
    "    pass\n",
    "\n",
    "def get_relative_pose():\n",
    "    pass"
   ]
  },
  {
   "cell_type": "code",
   "execution_count": 13,
   "metadata": {},
   "outputs": [],
   "source": [
    "# pts = []\n",
    "# for point in point_cloud2.read_points(msg, skip_nans=True):\n",
    "#             pt_x = point[0]\n",
    "#             pt_y = point[1]\n",
    "#             pt_z = point[2]\n",
    "            "
   ]
  },
  {
   "cell_type": "code",
   "execution_count": 15,
   "metadata": {},
   "outputs": [
    {
     "data": {
      "text/plain": [
       "array([[-3.54374468e-01, -9.40364430e-07, -9.49542001e-02],\n",
       "       [-3.76423627e-01, -9.98873929e-07, -8.69041085e-02],\n",
       "       [-3.69404376e-01, -9.80247705e-07, -7.18048289e-02],\n",
       "       ...,\n",
       "       [-3.65453094e-01,  9.69762596e-07, -5.78819960e-02],\n",
       "       [-4.65884566e-01,  1.23626648e-06, -5.72033450e-02],\n",
       "       [-7.52791524e-01,  1.99760007e-06, -6.58606291e-02]])"
      ]
     },
     "execution_count": 15,
     "metadata": {},
     "output_type": "execute_result"
    }
   ],
   "source": [
    "pts"
   ]
  },
  {
   "cell_type": "code",
   "execution_count": 14,
   "metadata": {},
   "outputs": [
    {
     "name": "stdout",
     "output_type": "stream",
     "text": [
      "xd Max :125.76383972167969 Min: -56.76069259643555\n",
      "yd Max :128.32485961914062 Min: -121.89436340332031\n",
      "al Max :20.228090286254883 Min: -6.788835048675537\n",
      "Number of clusters: 2\n",
      "Centroid : 0 [-3.89516454e-01  5.31403055e-05 -8.54207608e-02]\n",
      "Centroid : 1 [-7.22214899e-01 -4.87108693e-05 -6.64537501e-02]\n",
      "Noisy Pts: 4721\n"
     ]
    }
   ],
   "source": [
    "xd = []\n",
    "yd = []\n",
    "al = []\n",
    "for i in range(pts.shape[0]):\n",
    "    xd.append(pts[i][0])\n",
    "    yd.append(pts[i][1])\n",
    "    al.append(pts[i][2])\n",
    "    \n",
    "print(\"xd Max :{} Min: {}\".format(max(xd), min(xd)))\n",
    "print(\"yd Max :{} Min: {}\".format(max(yd), min(yd)))\n",
    "print(\"al Max :{} Min: {}\".format(max(al), min(al)))\n",
    "\n",
    "\n",
    "db = DBSCAN(eps = 0.2,metric=\"euclidean\", min_samples = 10)\n",
    "preds = db.fit_predict(pts)\n",
    "n_clusters = len(set(preds)) - (1 if -1 in preds else 0)\n",
    "n_noise_pts = list(preds).count(-1)\n",
    "\n",
    "print(\"Number of clusters: {}\".format(n_clusters))\n",
    "\n",
    "\n",
    "centroids = []\n",
    "c_id =0\n",
    "for c_id in range(n_clusters):\n",
    "    cluster_points_indexes = [ i for i in range(len(list(preds))) if preds[i] ==c_id]\n",
    "    centroid =np.sum(pts[cluster_points_indexes], axis = 0)/(len(cluster_points_indexes))\n",
    "    centroids.append(centroid)\n",
    "    print(\"Centroid : {} {}\".format(c_id, centroid))\n",
    "\n",
    "print(\"Noisy Pts: {}\".format(n_noise_pts))\n"
   ]
  },
  {
   "cell_type": "code",
   "execution_count": null,
   "metadata": {},
   "outputs": [],
   "source": []
  },
  {
   "cell_type": "code",
   "execution_count": 109,
   "metadata": {},
   "outputs": [],
   "source": [
    "pcd = o3d.geometry.PointCloud()\n",
    "pcd.points = o3d.utility.Vector3dVector(pts)\n",
    "o3d.visualization.draw_geometries([pcd])"
   ]
  },
  {
   "cell_type": "code",
   "execution_count": 10,
   "metadata": {},
   "outputs": [],
   "source": [
    "# ros_to_pcl(pcd)"
   ]
  },
  {
   "cell_type": "code",
   "execution_count": 11,
   "metadata": {},
   "outputs": [],
   "source": [
    "# import open3d as o3d\n",
    "# import numpy as np\n",
    "# import copy\n",
    "\n",
    "# if __name__ == \"__main__\":\n",
    "#     o3d.utility.set_verbosity_level(o3d.utility.VerbosityLevel.Debug)\n",
    "#     source_raw = o3d.io.read_point_cloud(\"../../test_data/ICP/cloud_bin_0.pcd\")\n",
    "#     target_raw = o3d.io.read_point_cloud(\"../../test_data/ICP/cloud_bin_1.pcd\")\n",
    "#     source = source_raw.voxel_down_sample(voxel_size=0.02)\n",
    "#     target = target_raw.voxel_down_sample(voxel_size=0.02)\n",
    "#     trans = [[0.862, 0.011, -0.507, 0.0], [-0.139, 0.967, -0.215, 0.7],\n",
    "#              [0.487, 0.255, 0.835, -1.4], [0.0, 0.0, 0.0, 1.0]]\n",
    "#     source.transform(trans)\n",
    "\n",
    "#     flip_transform = [[1, 0, 0, 0], [0, -1, 0, 0], [0, 0, -1, 0], [0, 0, 0, 1]]\n",
    "#     source.transform(flip_transform)\n",
    "#     target.transform(flip_transform)\n",
    "\n",
    "#     vis = o3d.visualization.Visualizer()\n",
    "#     vis.create_window()\n",
    "#     vis.add_geometry(source)\n",
    "#     vis.add_geometry(target)\n",
    "#     threshold = 0.05\n",
    "#     icp_iteration = 100\n",
    "#     save_image = False\n",
    "\n",
    "#     for i in range(icp_iteration):\n",
    "#         reg_p2l = o3d.pipelines.registration.registration_icp(\n",
    "#             source, target, threshold, np.identity(4),\n",
    "#             o3d.pipelines.registration.TransformationEstimationPointToPlane(),\n",
    "#             o3d.pipelines.registration.ICPConvergenceCriteria(max_iteration=1))\n",
    "#         source.transform(reg_p2l.transformation)\n",
    "#         vis.update_geometry(source)\n",
    "#         vis.poll_events()\n",
    "#         vis.update_renderer()\n",
    "#         if save_image:\n",
    "#             vis.capture_screen_image(\"temp_%04d.jpg\" % i)\n",
    "#     vis.destroy_window()"
   ]
  },
  {
   "cell_type": "code",
   "execution_count": 13,
   "metadata": {},
   "outputs": [
    {
     "ename": "AttributeError",
     "evalue": "module 'pcl' has no attribute 'PointCloud'",
     "output_type": "error",
     "traceback": [
      "\u001b[0;31m---------------------------------------------------------------------------\u001b[0m",
      "\u001b[0;31mAttributeError\u001b[0m                            Traceback (most recent call last)",
      "\u001b[0;32m/tmp/ipykernel_7715/2260020944.py\u001b[0m in \u001b[0;36m<module>\u001b[0;34m\u001b[0m\n\u001b[0;32m----> 1\u001b[0;31m \u001b[0mpcl\u001b[0m\u001b[0;34m.\u001b[0m\u001b[0mPointCloud\u001b[0m\u001b[0;34m(\u001b[0m\u001b[0;34m)\u001b[0m\u001b[0;34m\u001b[0m\u001b[0;34m\u001b[0m\u001b[0m\n\u001b[0m",
      "\u001b[0;31mAttributeError\u001b[0m: module 'pcl' has no attribute 'PointCloud'"
     ]
    }
   ],
   "source": [
    "pcl.PointCloud()"
   ]
  },
  {
   "cell_type": "code",
   "execution_count": 12,
   "metadata": {},
   "outputs": [
    {
     "ename": "AttributeError",
     "evalue": "module 'pcl' has no attribute 'PointCloud'",
     "output_type": "error",
     "traceback": [
      "\u001b[0;31m---------------------------------------------------------------------------\u001b[0m",
      "\u001b[0;31mAttributeError\u001b[0m                            Traceback (most recent call last)",
      "\u001b[0;32m/tmp/ipykernel_7715/1825885594.py\u001b[0m in \u001b[0;36m<module>\u001b[0;34m\u001b[0m\n\u001b[0;32m----> 1\u001b[0;31m \u001b[0mXYZ_cloud\u001b[0m \u001b[0;34m=\u001b[0m \u001b[0mpcl\u001b[0m\u001b[0;34m.\u001b[0m\u001b[0mPointCloud\u001b[0m\u001b[0;34m(\u001b[0m\u001b[0;34m)\u001b[0m\u001b[0;34m\u001b[0m\u001b[0;34m\u001b[0m\u001b[0m\n\u001b[0m\u001b[1;32m      2\u001b[0m \u001b[0mXYZ_cloud\u001b[0m\u001b[0;34m.\u001b[0m\u001b[0mfrom_list\u001b[0m\u001b[0;34m(\u001b[0m\u001b[0mpts\u001b[0m\u001b[0;34m)\u001b[0m\u001b[0;34m\u001b[0m\u001b[0;34m\u001b[0m\u001b[0m\n",
      "\u001b[0;31mAttributeError\u001b[0m: module 'pcl' has no attribute 'PointCloud'"
     ]
    }
   ],
   "source": [
    "XYZ_cloud = pcl.PointCloud()\n",
    "XYZ_cloud.from_list(pts)"
   ]
  },
  {
   "cell_type": "code",
   "execution_count": null,
   "metadata": {},
   "outputs": [],
   "source": [
    "def get_clusters(cloud, tolerance, min_size, max_size):\n",
    "\n",
    "  tree = cloud.make_kdtree()\n",
    "  extraction_object = cloud.make_EuclideanClusterExtraction()\n",
    "\n",
    "  extraction_object.set_ClusterTolerance(tolerance)\n",
    "  extraction_object.set_MinClusterSize(min_size)\n",
    "  extraction_object.set_MaxClusterSize(max_size)\n",
    "  extraction_object.set_SearchMethod(tree)\n",
    "\n",
    "  # Get clusters of indices for each cluster of points, each clusterbelongs to the same object\n",
    "  # 'clusters' is effectively a list of lists, with each list containing indices of the cloud\n",
    "  clusters = extraction_object.Extract()\n",
    "  return clusters\n",
    "  \n",
    "\n",
    "# clusters is a list of lists each list containing indices of the cloud\n",
    "# cloud is an array with each cell having three numbers corresponding to x, y, z position\n",
    "# Returns list of [x, y, z, color]\n",
    "def get_colored_clusters(clusters, cloud):\n",
    "  \n",
    "  # Get a random unique colors for each object\n",
    "  number_of_clusters = len(clusters)\n",
    "  colors = get_color_list(number_of_clusters)\n",
    "\n",
    "  colored_points = []\n",
    "\n",
    "  # Assign a color for each point\n",
    "  # Points with the same color belong to the same cluster\n",
    "  for cluster_id, cluster in enumerate(clusters):\n",
    "    for c, i in enumerate(cluster):\n",
    "      x, y, z = cloud[i][0], cloud[i][1], cloud[i][2]\n",
    "      color = rgb_to_float(colors[cluster_id])\n",
    "      colored_points.append([x, y, z, color])\n",
    "  \n",
    "  return colored_points"
   ]
  },
  {
   "cell_type": "code",
   "execution_count": null,
   "metadata": {},
   "outputs": [],
   "source": [
    "def pcl_callback(pcl_msg):\n",
    "\n",
    "  # Convert ROS msg to PCL data\n",
    "  cloud = ros_to_pcl(pcl_msg) \n",
    "\n",
    "  # Extract objects and table from the scene\n",
    "  objects_cloud, table_cloud = split_cloud(cloud) \n",
    "\n",
    "  # Get a point cloud of only the position information without color information\n",
    "  colorless_cloud = XYZRGB_to_XYZ(objects_cloud)\n",
    "  \n",
    "  # Get groups of indices for each cluster of points\n",
    "  # Each group of points belongs to the same object\n",
    "  # This is effectively a list of lists, with each list containing indices of the cloud\n",
    "  clusters = get_clusters(colorless_cloud, tolerance = 0.05, min_size = 100, max_size = 1500)\n",
    "\n",
    "  # Assign a unique color float for each point (x, y, z)\n",
    "  # Points with the same color belong to the same cluster\n",
    "  colored_points = get_colored_clusters(clusters, colorless_cloud)\n",
    "\n",
    "  # Create a cloud with each cluster of points having the same color\n",
    "  clusters_cloud = pcl.PointCloud_PointXYZRGB()\n",
    "  clusters_cloud.from_list(colored_points)\n",
    "\n",
    "  # Convert pcl data to ros messages\n",
    "  objects_msg = pcl_to_ros(objects_cloud)\n",
    "  table_msg = pcl_to_ros(table_cloud)\n",
    "  clusters_msg = pcl_to_ros(clusters_cloud)\n",
    "\n",
    "  # Publish ROS messages\n",
    "  objects_publisher.publish(objects_msg)\n",
    "  table_publisher.publish(table_msg)\n",
    "  clusters_publisher.publish(clusters_msg)"
   ]
  }
 ],
 "metadata": {
  "interpreter": {
   "hash": "98e019d3dabec54106e3fedbfa520e994042769b0031b905ef01697fd55a1a57"
  },
  "kernelspec": {
   "display_name": "Python 3.8.10 64-bit ('general_env': venv)",
   "language": "python",
   "name": "python3"
  },
  "language_info": {
   "codemirror_mode": {
    "name": "ipython",
    "version": 3
   },
   "file_extension": ".py",
   "mimetype": "text/x-python",
   "name": "python",
   "nbconvert_exporter": "python",
   "pygments_lexer": "ipython3",
   "version": "3.8.10"
  },
  "orig_nbformat": 4
 },
 "nbformat": 4,
 "nbformat_minor": 2
}
